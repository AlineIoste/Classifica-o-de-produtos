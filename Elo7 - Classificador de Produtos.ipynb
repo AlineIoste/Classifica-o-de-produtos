{
 "cells": [
  {
   "cell_type": "markdown",
   "metadata": {},
   "source": [
    "#### Aline Rodrigheri Ioste\n",
    "\n",
    "# Descrição do Problema: \n",
    "Construir um classificador de produtos que recebe um conjunto de características de um produto e retorne a sua categoria.\n"
   ]
  },
  {
   "cell_type": "markdown",
   "metadata": {},
   "source": [
    "# Parte 1 - Análise Exploratória\n",
    "\n",
    "O dataset disponivel para a solução do problema é composto de uma amostragem de dados da plataforma do Elo7.\n",
    "O dataset disponivel contém 38.507 registros distribuídos em 5 categorias (Bebê, Bijuterias e Jóias, Decoração, Lembrancinhas, Papel e Cia e Outros).\n",
    "\n",
    "#### Anaĺise dos campos que podem ser considerados classificatórios para a identificação do produto\n",
    "\n",
    "Para construir um modelo classificador de produtos a partir de suas características precisamos analisar se existem campos disponiveis no dataset determinantes para a identificação da categoria dos produtos.\n"
   ]
  },
  {
   "cell_type": "markdown",
   "metadata": {},
   "source": [
    "##### Importação da base de dados disponibilizada pelo ELO7"
   ]
  },
  {
   "cell_type": "code",
   "execution_count": 1,
   "metadata": {},
   "outputs": [],
   "source": [
    "import pandas as pd\n",
    "import matplotlib as mpl\n",
    "import seaborn as sns\n",
    "import matplotlib.pyplot as plt\n",
    "\n",
    "dataset=pd.read_csv(\"data/elo7_recruitment_dataset.csv\")"
   ]
  },
  {
   "cell_type": "code",
   "execution_count": 2,
   "metadata": {},
   "outputs": [
    {
     "data": {
      "text/html": [
       "<div>\n",
       "<style scoped>\n",
       "    .dataframe tbody tr th:only-of-type {\n",
       "        vertical-align: middle;\n",
       "    }\n",
       "\n",
       "    .dataframe tbody tr th {\n",
       "        vertical-align: top;\n",
       "    }\n",
       "\n",
       "    .dataframe thead th {\n",
       "        text-align: right;\n",
       "    }\n",
       "</style>\n",
       "<table border=\"1\" class=\"dataframe\">\n",
       "  <thead>\n",
       "    <tr style=\"text-align: right;\">\n",
       "      <th></th>\n",
       "      <th>product_id</th>\n",
       "      <th>seller_id</th>\n",
       "      <th>query</th>\n",
       "      <th>search_page</th>\n",
       "      <th>position</th>\n",
       "      <th>title</th>\n",
       "      <th>concatenated_tags</th>\n",
       "      <th>creation_date</th>\n",
       "      <th>price</th>\n",
       "      <th>weight</th>\n",
       "      <th>express_delivery</th>\n",
       "      <th>minimum_quantity</th>\n",
       "      <th>view_counts</th>\n",
       "      <th>order_counts</th>\n",
       "      <th>category</th>\n",
       "    </tr>\n",
       "  </thead>\n",
       "  <tbody>\n",
       "    <tr>\n",
       "      <th>0</th>\n",
       "      <td>11394449</td>\n",
       "      <td>8324141</td>\n",
       "      <td>espirito santo</td>\n",
       "      <td>2</td>\n",
       "      <td>6</td>\n",
       "      <td>Mandala Espírito Santo</td>\n",
       "      <td>mandala mdf</td>\n",
       "      <td>2015-11-14 19:42:12</td>\n",
       "      <td>171.890000</td>\n",
       "      <td>1200.0</td>\n",
       "      <td>1</td>\n",
       "      <td>4</td>\n",
       "      <td>244</td>\n",
       "      <td>NaN</td>\n",
       "      <td>Decoração</td>\n",
       "    </tr>\n",
       "    <tr>\n",
       "      <th>1</th>\n",
       "      <td>15534262</td>\n",
       "      <td>6939286</td>\n",
       "      <td>cartao de visita</td>\n",
       "      <td>2</td>\n",
       "      <td>0</td>\n",
       "      <td>Cartão de Visita</td>\n",
       "      <td>cartao visita panfletos tag adesivos copos lon...</td>\n",
       "      <td>2018-04-04 20:55:07</td>\n",
       "      <td>77.670000</td>\n",
       "      <td>8.0</td>\n",
       "      <td>1</td>\n",
       "      <td>5</td>\n",
       "      <td>124</td>\n",
       "      <td>NaN</td>\n",
       "      <td>Papel e Cia</td>\n",
       "    </tr>\n",
       "    <tr>\n",
       "      <th>2</th>\n",
       "      <td>16153119</td>\n",
       "      <td>9835835</td>\n",
       "      <td>expositor de esmaltes</td>\n",
       "      <td>1</td>\n",
       "      <td>38</td>\n",
       "      <td>Organizador expositor p/ 70 esmaltes</td>\n",
       "      <td>expositor</td>\n",
       "      <td>2018-10-13 20:57:07</td>\n",
       "      <td>73.920006</td>\n",
       "      <td>2709.0</td>\n",
       "      <td>1</td>\n",
       "      <td>1</td>\n",
       "      <td>59</td>\n",
       "      <td>NaN</td>\n",
       "      <td>Outros</td>\n",
       "    </tr>\n",
       "    <tr>\n",
       "      <th>3</th>\n",
       "      <td>15877252</td>\n",
       "      <td>8071206</td>\n",
       "      <td>medidas lencol para berco americano</td>\n",
       "      <td>1</td>\n",
       "      <td>6</td>\n",
       "      <td>Jogo de Lençol Berço Estampado</td>\n",
       "      <td>t jogo lencol menino lencol berco</td>\n",
       "      <td>2017-02-27 13:26:03</td>\n",
       "      <td>118.770004</td>\n",
       "      <td>0.0</td>\n",
       "      <td>1</td>\n",
       "      <td>1</td>\n",
       "      <td>180</td>\n",
       "      <td>1.0</td>\n",
       "      <td>Bebê</td>\n",
       "    </tr>\n",
       "    <tr>\n",
       "      <th>4</th>\n",
       "      <td>15917108</td>\n",
       "      <td>7200773</td>\n",
       "      <td>adesivo box banheiro</td>\n",
       "      <td>3</td>\n",
       "      <td>38</td>\n",
       "      <td>ADESIVO BOX DE BANHEIRO</td>\n",
       "      <td>adesivo box banheiro</td>\n",
       "      <td>2017-05-09 13:18:38</td>\n",
       "      <td>191.810000</td>\n",
       "      <td>507.0</td>\n",
       "      <td>1</td>\n",
       "      <td>6</td>\n",
       "      <td>34</td>\n",
       "      <td>NaN</td>\n",
       "      <td>Decoração</td>\n",
       "    </tr>\n",
       "  </tbody>\n",
       "</table>\n",
       "</div>"
      ],
      "text/plain": [
       "   product_id  seller_id                                query  search_page  \\\n",
       "0    11394449    8324141                       espirito santo            2   \n",
       "1    15534262    6939286                     cartao de visita            2   \n",
       "2    16153119    9835835                expositor de esmaltes            1   \n",
       "3    15877252    8071206  medidas lencol para berco americano            1   \n",
       "4    15917108    7200773                 adesivo box banheiro            3   \n",
       "\n",
       "   position                                 title  \\\n",
       "0         6                Mandala Espírito Santo   \n",
       "1         0                      Cartão de Visita   \n",
       "2        38  Organizador expositor p/ 70 esmaltes   \n",
       "3         6        Jogo de Lençol Berço Estampado   \n",
       "4        38               ADESIVO BOX DE BANHEIRO   \n",
       "\n",
       "                                   concatenated_tags        creation_date  \\\n",
       "0                                        mandala mdf  2015-11-14 19:42:12   \n",
       "1  cartao visita panfletos tag adesivos copos lon...  2018-04-04 20:55:07   \n",
       "2                                          expositor  2018-10-13 20:57:07   \n",
       "3                  t jogo lencol menino lencol berco  2017-02-27 13:26:03   \n",
       "4                               adesivo box banheiro  2017-05-09 13:18:38   \n",
       "\n",
       "        price  weight  express_delivery  minimum_quantity  view_counts  \\\n",
       "0  171.890000  1200.0                 1                 4          244   \n",
       "1   77.670000     8.0                 1                 5          124   \n",
       "2   73.920006  2709.0                 1                 1           59   \n",
       "3  118.770004     0.0                 1                 1          180   \n",
       "4  191.810000   507.0                 1                 6           34   \n",
       "\n",
       "   order_counts     category  \n",
       "0           NaN    Decoração  \n",
       "1           NaN  Papel e Cia  \n",
       "2           NaN       Outros  \n",
       "3           1.0         Bebê  \n",
       "4           NaN    Decoração  "
      ]
     },
     "execution_count": 2,
     "metadata": {},
     "output_type": "execute_result"
    }
   ],
   "source": [
    "dataset.head(5)"
   ]
  },
  {
   "cell_type": "markdown",
   "metadata": {},
   "source": [
    "####  Matriz de Correlação de Pearson\n",
    "\n",
    "Como prova matematicamente da correlação entre os campos criaremos uma matriz de correlação para analisar as correlações entre os campos. A matriz demonstrará a correlação do grau de relação linear entre cada campo do dataset.\n",
    "Os valores de correlação da matriz são compostos por uma variação entre -1 e +1, sendo considerados variáveis altamente correlacionados os que obterem valores de correlação maiores que 0,7 tanto positivos como negativos."
   ]
  },
  {
   "cell_type": "markdown",
   "metadata": {},
   "source": [
    "##### Transformação da Categoria em valores numéricos"
   ]
  },
  {
   "cell_type": "code",
   "execution_count": 3,
   "metadata": {},
   "outputs": [],
   "source": [
    "category = {'Bebê': '1',\n",
    "         'Bijuterias e Jóias': '2',\n",
    "         'Decoração': '3',\n",
    "         'Lembrancinhas': '4',\n",
    "         'Papel e Cia': '5',\n",
    "         'Outros': '6'}\n",
    "         \n",
    "dataset = dataset.replace(category)\n"
   ]
  },
  {
   "cell_type": "markdown",
   "metadata": {},
   "source": [
    "Matriz de correlação entre todas os campos disponiveis do dataset"
   ]
  },
  {
   "cell_type": "code",
   "execution_count": 4,
   "metadata": {},
   "outputs": [
    {
     "data": {
      "text/plain": [
       "<matplotlib.axes._subplots.AxesSubplot at 0x7f2a04ffb828>"
      ]
     },
     "execution_count": 4,
     "metadata": {},
     "output_type": "execute_result"
    },
    {
     "data": {
      "image/png": "[encoded data removed]",
      "text/plain": [
       "<Figure size 1152x576 with 2 Axes>"
      ]
     },
     "metadata": {
      "needs_background": "light"
     },
     "output_type": "display_data"
    }
   ],
   "source": [
    "datasetcorr = dataset\n",
    "datasetcorr['category'] = datasetcorr['category'].astype(int)\n",
    "\n",
    "corrmat = abs(datasetcorr.corr())\n",
    "\n",
    "f, ax = plt.subplots(figsize=(16, 8))\n",
    "sns.heatmap(abs(datasetcorr.corr()),\n",
    "             vmin = 0.0,\n",
    "            square=True, annot=True, vmax=1.0, cmap='RdPu')"
   ]
  },
  {
   "cell_type": "markdown",
   "metadata": {},
   "source": [
    "Matriz de correlação entre os campos disponiveis no dataset com o campo categoria"
   ]
  },
  {
   "cell_type": "markdown",
   "metadata": {},
   "source": [
    "**Matriz de correlação**\n",
    "\n",
    "Na Matriz de correlação podemos notar que os campos 'product_id' , 'seller_id', 'search_page', 'position','creation_date', 'express_delivery', 'minimum_quantity', 'view_counts', 'order_counts', possuem correlações insignificantes entre eles, sendo encontrado somente uma correlação de 0.6 entre os campos view_counts e order_counts, porém este valores não representam nenhuma correlação com a categorização do produto."
   ]
  },
  {
   "cell_type": "code",
   "execution_count": 5,
   "metadata": {},
   "outputs": [
    {
     "data": {
      "text/plain": [
       "<matplotlib.axes._subplots.AxesSubplot at 0x7f2a04c19940>"
      ]
     },
     "execution_count": 5,
     "metadata": {},
     "output_type": "execute_result"
    },
    {
     "data": {
      "image/png": "[encoded data removed]",
      "text/plain": [
       "<Figure size 1152x576 with 2 Axes>"
      ]
     },
     "metadata": {
      "needs_background": "light"
     },
     "output_type": "display_data"
    }
   ],
   "source": [
    "corrmat = abs(datasetcorr.corr())\n",
    "# Correlation with output variable\n",
    "cor_target = corrmat['category']\n",
    "# Selecting highly correlated features\n",
    "relevant_features = cor_target[cor_target>0.5].index.tolist()\n",
    "\n",
    "f, ax = plt.subplots(figsize=(16, 8))\n",
    "plt.title('Correlação dos campos com a classificação de categoria')\n",
    "sns.heatmap(abs(datasetcorr.corr().iloc[0:1, :]),\n",
    "            yticklabels=[relevant_features[0]], xticklabels=relevant_features, vmin = 0.0,\n",
    "            square=True, annot=True, vmax=1.0, cmap='RdPu')\n"
   ]
  },
  {
   "cell_type": "markdown",
   "metadata": {},
   "source": [
    "Note que medindo a correlação de pearson dos campos disponiveis com a categoria do produto podemos avaliar que não existem correlações suficientes eles eles para determinar a classificação dos produtos através destas caracteristicas."
   ]
  },
  {
   "cell_type": "markdown",
   "metadata": {},
   "source": [
    "####  Anaĺise da distribuição das categorias dos produtos no dataset de amostragem"
   ]
  },
  {
   "cell_type": "markdown",
   "metadata": {},
   "source": [
    "Precisamos avaliar a distribuição das categorias no dataset, a fim de avaliar se temos registros suficientes de cada categoria para que o modelo possa \"aprender\" a classificar o produto.\n",
    "\n",
    "Estão disponiveis no dataset 38.507 registros, sendo:"
   ]
  },
  {
   "cell_type": "code",
   "execution_count": 6,
   "metadata": {},
   "outputs": [
    {
     "data": {
      "text/plain": [
       "4    17759\n",
       "3     8846\n",
       "1     7026\n",
       "5     2777\n",
       "6     1148\n",
       "Name: category, dtype: int64"
      ]
     },
     "execution_count": 6,
     "metadata": {},
     "output_type": "execute_result"
    }
   ],
   "source": [
    "dataset['category'].value_counts().head()"
   ]
  },
  {
   "cell_type": "code",
   "execution_count": 7,
   "metadata": {},
   "outputs": [
    {
     "data": {
      "image/png": "[encoded data removed]",
      "text/plain": [
       "<Figure size 432x288 with 1 Axes>"
      ]
     },
     "metadata": {
      "needs_background": "light"
     },
     "output_type": "display_data"
    }
   ],
   "source": [
    "dataset['category'].value_counts().plot(kind = 'bar')\n",
    "plt.show()"
   ]
  },
  {
   "cell_type": "markdown",
   "metadata": {},
   "source": [
    "A partir da análise da distribuição podemos avaliar que os produtos com maior quantidade de registros terão a maior probabilidade de que o modelo aprenda sua classificação.\n"
   ]
  },
  {
   "cell_type": "markdown",
   "metadata": {},
   "source": [
    "####  Exclução dos campos que não são fatores determinantes para categorização dos produtos "
   ]
  },
  {
   "cell_type": "markdown",
   "metadata": {},
   "source": [
    "Podemos excluir os campos do dataset que evidenciamos matematicamente que não possuem correlação.\n",
    "Sendo os campos que não tem correlação matemática com a categorização dos produtos."
   ]
  },
  {
   "cell_type": "code",
   "execution_count": 8,
   "metadata": {},
   "outputs": [],
   "source": [
    "#ID do produto não é um fator determinando para classificação\n",
    "dataset = dataset.drop(['product_id'],axis=1) \n",
    "\n",
    "# Um vendedor pode trabalhar com vários produtos então não é um fator determinando para classificação\n",
    "dataset = dataset.drop(['seller_id'],axis=1) \n",
    "\n",
    "#número de páginas que apareceu não é um fator determinando para classificação\n",
    "dataset = dataset.drop(['search_page'],axis=1) \n",
    "\n",
    "#Posição do produto não é um fator determinando para classificação\n",
    "dataset = dataset.drop(['position'],axis=1) \n",
    "\n",
    "#Data de criação do produto na plataforma do Elo7 não é um fator determinando para classificação\n",
    "dataset = dataset.drop(['creation_date'],axis=1) \n",
    "\n",
    "#Se o produto é pronta entrega ou não, não é um fator determinando para classificação\n",
    "dataset = dataset.drop(['express_delivery'],axis=1) \n",
    "\n",
    "#Quantidade de unidades mínima necessária para compra não é um fator determinando para classificação.\n",
    "dataset = dataset.drop(['minimum_quantity'],axis=1)\n",
    "\n",
    "#Número de cliques no produto nos últimos três meses não é um fator determinando para classificação\n",
    "dataset = dataset.drop(['view_counts'],axis=1)\n",
    "\n",
    "#Número de vezes que o produto foi comprado nos últimos três meses não é um fator determinando para classificação\n",
    "dataset = dataset.drop(['order_counts'],axis=1)"
   ]
  },
  {
   "cell_type": "code",
   "execution_count": 9,
   "metadata": {},
   "outputs": [
    {
     "data": {
      "text/html": [
       "<div>\n",
       "<style scoped>\n",
       "    .dataframe tbody tr th:only-of-type {\n",
       "        vertical-align: middle;\n",
       "    }\n",
       "\n",
       "    .dataframe tbody tr th {\n",
       "        vertical-align: top;\n",
       "    }\n",
       "\n",
       "    .dataframe thead th {\n",
       "        text-align: right;\n",
       "    }\n",
       "</style>\n",
       "<table border=\"1\" class=\"dataframe\">\n",
       "  <thead>\n",
       "    <tr style=\"text-align: right;\">\n",
       "      <th></th>\n",
       "      <th>query</th>\n",
       "      <th>title</th>\n",
       "      <th>concatenated_tags</th>\n",
       "      <th>price</th>\n",
       "      <th>weight</th>\n",
       "      <th>category</th>\n",
       "    </tr>\n",
       "  </thead>\n",
       "  <tbody>\n",
       "    <tr>\n",
       "      <th>0</th>\n",
       "      <td>espirito santo</td>\n",
       "      <td>Mandala Espírito Santo</td>\n",
       "      <td>mandala mdf</td>\n",
       "      <td>171.890000</td>\n",
       "      <td>1200.0</td>\n",
       "      <td>3</td>\n",
       "    </tr>\n",
       "    <tr>\n",
       "      <th>1</th>\n",
       "      <td>cartao de visita</td>\n",
       "      <td>Cartão de Visita</td>\n",
       "      <td>cartao visita panfletos tag adesivos copos lon...</td>\n",
       "      <td>77.670000</td>\n",
       "      <td>8.0</td>\n",
       "      <td>5</td>\n",
       "    </tr>\n",
       "    <tr>\n",
       "      <th>2</th>\n",
       "      <td>expositor de esmaltes</td>\n",
       "      <td>Organizador expositor p/ 70 esmaltes</td>\n",
       "      <td>expositor</td>\n",
       "      <td>73.920006</td>\n",
       "      <td>2709.0</td>\n",
       "      <td>6</td>\n",
       "    </tr>\n",
       "    <tr>\n",
       "      <th>3</th>\n",
       "      <td>medidas lencol para berco americano</td>\n",
       "      <td>Jogo de Lençol Berço Estampado</td>\n",
       "      <td>t jogo lencol menino lencol berco</td>\n",
       "      <td>118.770004</td>\n",
       "      <td>0.0</td>\n",
       "      <td>1</td>\n",
       "    </tr>\n",
       "    <tr>\n",
       "      <th>4</th>\n",
       "      <td>adesivo box banheiro</td>\n",
       "      <td>ADESIVO BOX DE BANHEIRO</td>\n",
       "      <td>adesivo box banheiro</td>\n",
       "      <td>191.810000</td>\n",
       "      <td>507.0</td>\n",
       "      <td>3</td>\n",
       "    </tr>\n",
       "    <tr>\n",
       "      <th>5</th>\n",
       "      <td>dia dos pais</td>\n",
       "      <td>Álbum de figurinhas dia dos pais</td>\n",
       "      <td>albuns figurinhas pai lucas album fotos</td>\n",
       "      <td>49.970000</td>\n",
       "      <td>208.0</td>\n",
       "      <td>4</td>\n",
       "    </tr>\n",
       "    <tr>\n",
       "      <th>6</th>\n",
       "      <td>arranjo de flores para mesa</td>\n",
       "      <td>Arranjo de Flores - Orquidias</td>\n",
       "      <td>mini arranjos</td>\n",
       "      <td>23.670000</td>\n",
       "      <td>207.0</td>\n",
       "      <td>3</td>\n",
       "    </tr>\n",
       "    <tr>\n",
       "      <th>7</th>\n",
       "      <td>lembrancinha maternidade</td>\n",
       "      <td>Kit Aromarizador + sacola / Lembrancinha Mater...</td>\n",
       "      <td>bb lembrancinhas maternidade baby lembranca ma...</td>\n",
       "      <td>12.710000</td>\n",
       "      <td>55.0</td>\n",
       "      <td>4</td>\n",
       "    </tr>\n",
       "    <tr>\n",
       "      <th>8</th>\n",
       "      <td>chaveiro dia dos pais</td>\n",
       "      <td>chaveiro dia dos pais</td>\n",
       "      <td>dia pais</td>\n",
       "      <td>11.420000</td>\n",
       "      <td>6.0</td>\n",
       "      <td>4</td>\n",
       "    </tr>\n",
       "    <tr>\n",
       "      <th>9</th>\n",
       "      <td>manta personalizada</td>\n",
       "      <td>Manta para bebê personalizada de Nuvem com nome</td>\n",
       "      <td>nascimento manta baby cha bebe vestido bebe</td>\n",
       "      <td>107.100000</td>\n",
       "      <td>9.0</td>\n",
       "      <td>1</td>\n",
       "    </tr>\n",
       "  </tbody>\n",
       "</table>\n",
       "</div>"
      ],
      "text/plain": [
       "                                 query  \\\n",
       "0                       espirito santo   \n",
       "1                     cartao de visita   \n",
       "2                expositor de esmaltes   \n",
       "3  medidas lencol para berco americano   \n",
       "4                 adesivo box banheiro   \n",
       "5                         dia dos pais   \n",
       "6          arranjo de flores para mesa   \n",
       "7             lembrancinha maternidade   \n",
       "8                chaveiro dia dos pais   \n",
       "9                  manta personalizada   \n",
       "\n",
       "                                               title  \\\n",
       "0                             Mandala Espírito Santo   \n",
       "1                                   Cartão de Visita   \n",
       "2               Organizador expositor p/ 70 esmaltes   \n",
       "3                     Jogo de Lençol Berço Estampado   \n",
       "4                            ADESIVO BOX DE BANHEIRO   \n",
       "5                   Álbum de figurinhas dia dos pais   \n",
       "6                      Arranjo de Flores - Orquidias   \n",
       "7  Kit Aromarizador + sacola / Lembrancinha Mater...   \n",
       "8                              chaveiro dia dos pais   \n",
       "9    Manta para bebê personalizada de Nuvem com nome   \n",
       "\n",
       "                                   concatenated_tags       price  weight  \\\n",
       "0                                        mandala mdf  171.890000  1200.0   \n",
       "1  cartao visita panfletos tag adesivos copos lon...   77.670000     8.0   \n",
       "2                                          expositor   73.920006  2709.0   \n",
       "3                  t jogo lencol menino lencol berco  118.770004     0.0   \n",
       "4                               adesivo box banheiro  191.810000   507.0   \n",
       "5            albuns figurinhas pai lucas album fotos   49.970000   208.0   \n",
       "6                                      mini arranjos   23.670000   207.0   \n",
       "7  bb lembrancinhas maternidade baby lembranca ma...   12.710000    55.0   \n",
       "8                                           dia pais   11.420000     6.0   \n",
       "9        nascimento manta baby cha bebe vestido bebe  107.100000     9.0   \n",
       "\n",
       "   category  \n",
       "0         3  \n",
       "1         5  \n",
       "2         6  \n",
       "3         1  \n",
       "4         3  \n",
       "5         4  \n",
       "6         3  \n",
       "7         4  \n",
       "8         4  \n",
       "9         1  "
      ]
     },
     "execution_count": 9,
     "metadata": {},
     "output_type": "execute_result"
    }
   ],
   "source": [
    "dataset.head(10)"
   ]
  },
  {
   "cell_type": "markdown",
   "metadata": {},
   "source": [
    "Podemos então evidenciar que dos 15 itens disponivel no dataset 11 deles não apresentaram correlação suficientes para a identificação da categoria do produto.\n",
    "\n",
    "Desda forma qualquer solução que necessite de analises de caracteristicas estruturadas estão descartadas.\n",
    "\n"
   ]
  },
  {
   "cell_type": "markdown",
   "metadata": {},
   "source": [
    "Por exemplo note que a correlação da categoria com o peso e com o tamanho não existem."
   ]
  },
  {
   "cell_type": "code",
   "execution_count": 10,
   "metadata": {},
   "outputs": [
    {
     "name": "stdout",
     "output_type": "stream",
     "text": [
      "-0.01720542600855266\n"
     ]
    }
   ],
   "source": [
    "import scipy\n",
    "from scipy import stats\n",
    "\n",
    "X = (dataset['weight'].values)\n",
    "Y = (dataset['category'].values)\n",
    "X = X .astype(int)\n",
    "Y = Y.astype(int)\n",
    "pearson, x = scipy.stats.stats.pearsonr(X, Y)\n",
    "print(pearson)"
   ]
  },
  {
   "cell_type": "code",
   "execution_count": 11,
   "metadata": {},
   "outputs": [
    {
     "name": "stdout",
     "output_type": "stream",
     "text": [
      "-0.2196037673737705\n"
     ]
    }
   ],
   "source": [
    "import scipy\n",
    "from scipy import stats\n",
    "\n",
    "X = (dataset['price'].values)\n",
    "Y = (dataset['category'].values)\n",
    "X = X .astype(int)\n",
    "Y = Y.astype(int)\n",
    "pearson, x = scipy.stats.stats.pearsonr(X, Y)\n",
    "print(pearson)"
   ]
  },
  {
   "cell_type": "markdown",
   "metadata": {},
   "source": [
    "Note que também não existem correlações suficientes, tendo o tamanho uma correlação da categoria de -0.017 e com o preço de -0.219, ou seja estes campos também não contribuem para a identificação do produto podendo ser excluidos do dataset."
   ]
  },
  {
   "cell_type": "code",
   "execution_count": 12,
   "metadata": {},
   "outputs": [],
   "source": [
    "#Número de cliques no produto nos últimos três meses não é um fator determinando para classificação\n",
    "dataset = dataset.drop(['price'],axis=1)\n",
    "\n",
    "#Número de vezes que o produto foi comprado nos últimos três meses não é um fator determinando para classificação\n",
    "dataset = dataset.drop(['weight'],axis=1)"
   ]
  },
  {
   "cell_type": "markdown",
   "metadata": {},
   "source": [
    "Precisamos então pensar em uma solução do problema baseado nos campos de valores não estruturados para criar um modelo que seja capaz de aprender baseado em textos livres, baseados na análise dos campos como titulo, query e tags.\n",
    "\n",
    "O modelo fará um minetismo da forma humana de classificar os produtos através de textos não estruturados. "
   ]
  },
  {
   "cell_type": "markdown",
   "metadata": {},
   "source": [
    "Note que os fatores determinantes para a classifação dos produtos são os campos com texto livres.\n",
    "Baseado nas 6 possiveis categorias humanamente podemos classificar com alta precisão a categoria do produto, apenas lendo os campos como query, title ou concatenarted_tags.\n",
    "O ideal seria que nosso modelo pudesse fazer o mesmo, pois as outras caracteristicas não são relevantes para a classificação do produto, conforme demonstrado na análise exploratória dos dados. "
   ]
  },
  {
   "cell_type": "code",
   "execution_count": 13,
   "metadata": {},
   "outputs": [
    {
     "data": {
      "text/html": [
       "<div>\n",
       "<style scoped>\n",
       "    .dataframe tbody tr th:only-of-type {\n",
       "        vertical-align: middle;\n",
       "    }\n",
       "\n",
       "    .dataframe tbody tr th {\n",
       "        vertical-align: top;\n",
       "    }\n",
       "\n",
       "    .dataframe thead th {\n",
       "        text-align: right;\n",
       "    }\n",
       "</style>\n",
       "<table border=\"1\" class=\"dataframe\">\n",
       "  <thead>\n",
       "    <tr style=\"text-align: right;\">\n",
       "      <th></th>\n",
       "      <th>query</th>\n",
       "      <th>title</th>\n",
       "      <th>concatenated_tags</th>\n",
       "      <th>category</th>\n",
       "    </tr>\n",
       "  </thead>\n",
       "  <tbody>\n",
       "    <tr>\n",
       "      <th>0</th>\n",
       "      <td>espirito santo</td>\n",
       "      <td>Mandala Espírito Santo</td>\n",
       "      <td>mandala mdf</td>\n",
       "      <td>3</td>\n",
       "    </tr>\n",
       "    <tr>\n",
       "      <th>1</th>\n",
       "      <td>cartao de visita</td>\n",
       "      <td>Cartão de Visita</td>\n",
       "      <td>cartao visita panfletos tag adesivos copos lon...</td>\n",
       "      <td>5</td>\n",
       "    </tr>\n",
       "    <tr>\n",
       "      <th>2</th>\n",
       "      <td>expositor de esmaltes</td>\n",
       "      <td>Organizador expositor p/ 70 esmaltes</td>\n",
       "      <td>expositor</td>\n",
       "      <td>6</td>\n",
       "    </tr>\n",
       "    <tr>\n",
       "      <th>3</th>\n",
       "      <td>medidas lencol para berco americano</td>\n",
       "      <td>Jogo de Lençol Berço Estampado</td>\n",
       "      <td>t jogo lencol menino lencol berco</td>\n",
       "      <td>1</td>\n",
       "    </tr>\n",
       "    <tr>\n",
       "      <th>4</th>\n",
       "      <td>adesivo box banheiro</td>\n",
       "      <td>ADESIVO BOX DE BANHEIRO</td>\n",
       "      <td>adesivo box banheiro</td>\n",
       "      <td>3</td>\n",
       "    </tr>\n",
       "    <tr>\n",
       "      <th>5</th>\n",
       "      <td>dia dos pais</td>\n",
       "      <td>Álbum de figurinhas dia dos pais</td>\n",
       "      <td>albuns figurinhas pai lucas album fotos</td>\n",
       "      <td>4</td>\n",
       "    </tr>\n",
       "    <tr>\n",
       "      <th>6</th>\n",
       "      <td>arranjo de flores para mesa</td>\n",
       "      <td>Arranjo de Flores - Orquidias</td>\n",
       "      <td>mini arranjos</td>\n",
       "      <td>3</td>\n",
       "    </tr>\n",
       "    <tr>\n",
       "      <th>7</th>\n",
       "      <td>lembrancinha maternidade</td>\n",
       "      <td>Kit Aromarizador + sacola / Lembrancinha Mater...</td>\n",
       "      <td>bb lembrancinhas maternidade baby lembranca ma...</td>\n",
       "      <td>4</td>\n",
       "    </tr>\n",
       "    <tr>\n",
       "      <th>8</th>\n",
       "      <td>chaveiro dia dos pais</td>\n",
       "      <td>chaveiro dia dos pais</td>\n",
       "      <td>dia pais</td>\n",
       "      <td>4</td>\n",
       "    </tr>\n",
       "    <tr>\n",
       "      <th>9</th>\n",
       "      <td>manta personalizada</td>\n",
       "      <td>Manta para bebê personalizada de Nuvem com nome</td>\n",
       "      <td>nascimento manta baby cha bebe vestido bebe</td>\n",
       "      <td>1</td>\n",
       "    </tr>\n",
       "  </tbody>\n",
       "</table>\n",
       "</div>"
      ],
      "text/plain": [
       "                                 query  \\\n",
       "0                       espirito santo   \n",
       "1                     cartao de visita   \n",
       "2                expositor de esmaltes   \n",
       "3  medidas lencol para berco americano   \n",
       "4                 adesivo box banheiro   \n",
       "5                         dia dos pais   \n",
       "6          arranjo de flores para mesa   \n",
       "7             lembrancinha maternidade   \n",
       "8                chaveiro dia dos pais   \n",
       "9                  manta personalizada   \n",
       "\n",
       "                                               title  \\\n",
       "0                             Mandala Espírito Santo   \n",
       "1                                   Cartão de Visita   \n",
       "2               Organizador expositor p/ 70 esmaltes   \n",
       "3                     Jogo de Lençol Berço Estampado   \n",
       "4                            ADESIVO BOX DE BANHEIRO   \n",
       "5                   Álbum de figurinhas dia dos pais   \n",
       "6                      Arranjo de Flores - Orquidias   \n",
       "7  Kit Aromarizador + sacola / Lembrancinha Mater...   \n",
       "8                              chaveiro dia dos pais   \n",
       "9    Manta para bebê personalizada de Nuvem com nome   \n",
       "\n",
       "                                   concatenated_tags  category  \n",
       "0                                        mandala mdf         3  \n",
       "1  cartao visita panfletos tag adesivos copos lon...         5  \n",
       "2                                          expositor         6  \n",
       "3                  t jogo lencol menino lencol berco         1  \n",
       "4                               adesivo box banheiro         3  \n",
       "5            albuns figurinhas pai lucas album fotos         4  \n",
       "6                                      mini arranjos         3  \n",
       "7  bb lembrancinhas maternidade baby lembranca ma...         4  \n",
       "8                                           dia pais         4  \n",
       "9        nascimento manta baby cha bebe vestido bebe         1  "
      ]
     },
     "execution_count": 13,
     "metadata": {},
     "output_type": "execute_result"
    }
   ],
   "source": [
    "dataset.head(10)"
   ]
  },
  {
   "cell_type": "markdown",
   "metadata": {},
   "source": [
    "Temos então 3 fortes candidados como query - termo de busca inserido pelo usuário, title - título do produto e a \n",
    "concatenated_tags - tags do produto inseridas pelo vendedor.\n",
    "Podemos por pensamento empirico determinar que estes são os fatores determinantes para classificação do produto, pois são os fatores que os usuários do site usam para buscar os produtos, ou seja através destes itens de buscam podemos facilmente classificar o produto corretamente.\n",
    "O desafio aqui é criar um modelo que possa usar os mesmos fatores para determinar a classificação o produto.\n",
    "Para fazer um minetismo da forma de classificação dos usuários do site, vamos usar os dados não estruturados para determinar a classificação dos produtos."
   ]
  },
  {
   "cell_type": "markdown",
   "metadata": {},
   "source": [
    "#### Análise do tamanho do Corpus"
   ]
  },
  {
   "cell_type": "code",
   "execution_count": 14,
   "metadata": {},
   "outputs": [
    {
     "name": "stdout",
     "output_type": "stream",
     "text": [
      "Total de palavras unicas no titulo: 25355\n",
      "Total de palavras unicas nas tags: 23011\n",
      "Total de palavras unicas no Query: 6397\n"
     ]
    }
   ],
   "source": [
    "words = list(set(dataset[\"title\"].values))\n",
    "num_words = len(words)\n",
    "print(f\"Total de palavras unicas no titulo: {num_words}\")\n",
    "\n",
    "words = list(set(dataset[\"concatenated_tags\"].values))\n",
    "num_words = len(words)\n",
    "print(f\"Total de palavras unicas nas tags: {num_words}\")\n",
    "\n",
    "words = list(set(dataset[\"query\"].values))\n",
    "num_words = len(words)\n",
    "print(f\"Total de palavras unicas no Query: {num_words}\")"
   ]
  },
  {
   "cell_type": "markdown",
   "metadata": {},
   "source": [
    "Note que o corpus de palavras no titulo e nas tags estão muito próximos, estão entre +- 23 mil a +-25 mil. \n",
    "Este é o tamanho do corpus, ou seja quantidade de palavras únicas usados para determinar a classificação dos produtos.\n",
    "O corpus de query tem uma redução de +- 6 mil palavras. \n",
    "Precisamos então avaliar qual seria o corpus com maior indice de precisão para classificação de produto. \n",
    "Podendo ser os campos com maior quantidade de palavras unicas ou o campo com menor quantidade de palavras.\n",
    "\n"
   ]
  },
  {
   "cell_type": "markdown",
   "metadata": {},
   "source": [
    "#### Tratamento do Corpus\n"
   ]
  },
  {
   "cell_type": "markdown",
   "metadata": {},
   "source": [
    "#### Tokenizer\n",
    "Para que um modelo possa analisar estes dados precisamos transformar estes dados para valores numéricos.\n",
    "Um valor numérico será atribuído a um número de n-grams por sequência. Vamos precisar usar uma função de tokenização.\n",
    "O Tokenizer disponivel na biblioteca do keras, esta função vai determina um index para cada palavra presente no corpus.\n"
   ]
  },
  {
   "cell_type": "markdown",
   "metadata": {},
   "source": [
    "Os valores devem ser formatados de modo que todas as sequências tenham o mesmo tamanho, que no caso do texto podemos analisar que tem tamanhos distintos.Então precisamos utilizar a função pad_sequences,também do keras, que será responsável por truncar as sequências maiores e completar as sequências menores com zeros."
   ]
  },
  {
   "cell_type": "markdown",
   "metadata": {},
   "source": [
    "Criaremos funções para testar nosso modelo com os dois corpus title e query. Desta forma podemos testar qual delas terá a maior precisão para classificação dos produtos.\n",
    "Como os campos são textos livres, não estruturados, um deles terá a melhor classificação."
   ]
  },
  {
   "cell_type": "code",
   "execution_count": 15,
   "metadata": {},
   "outputs": [
    {
     "name": "stderr",
     "output_type": "stream",
     "text": [
      "Using TensorFlow backend.\n"
     ]
    }
   ],
   "source": [
    "from keras.preprocessing.text import Tokenizer\n",
    "from keras.preprocessing.sequence import pad_sequences"
   ]
  },
  {
   "cell_type": "code",
   "execution_count": 16,
   "metadata": {},
   "outputs": [
    {
     "data": {
      "text/html": [
       "<div>\n",
       "<style scoped>\n",
       "    .dataframe tbody tr th:only-of-type {\n",
       "        vertical-align: middle;\n",
       "    }\n",
       "\n",
       "    .dataframe tbody tr th {\n",
       "        vertical-align: top;\n",
       "    }\n",
       "\n",
       "    .dataframe thead th {\n",
       "        text-align: right;\n",
       "    }\n",
       "</style>\n",
       "<table border=\"1\" class=\"dataframe\">\n",
       "  <thead>\n",
       "    <tr style=\"text-align: right;\">\n",
       "      <th></th>\n",
       "      <th>query</th>\n",
       "      <th>title</th>\n",
       "      <th>concatenated_tags</th>\n",
       "      <th>category</th>\n",
       "    </tr>\n",
       "  </thead>\n",
       "  <tbody>\n",
       "    <tr>\n",
       "      <th>0</th>\n",
       "      <td>espirito santo</td>\n",
       "      <td>Mandala Espírito Santo</td>\n",
       "      <td>mandala mdf</td>\n",
       "      <td>3</td>\n",
       "    </tr>\n",
       "    <tr>\n",
       "      <th>1</th>\n",
       "      <td>cartao de visita</td>\n",
       "      <td>Cartão de Visita</td>\n",
       "      <td>cartao visita panfletos tag adesivos copos lon...</td>\n",
       "      <td>5</td>\n",
       "    </tr>\n",
       "  </tbody>\n",
       "</table>\n",
       "</div>"
      ],
      "text/plain": [
       "              query                   title  \\\n",
       "0    espirito santo  Mandala Espírito Santo   \n",
       "1  cartao de visita        Cartão de Visita   \n",
       "\n",
       "                                   concatenated_tags  category  \n",
       "0                                        mandala mdf         3  \n",
       "1  cartao visita panfletos tag adesivos copos lon...         5  "
      ]
     },
     "execution_count": 16,
     "metadata": {},
     "output_type": "execute_result"
    }
   ],
   "source": [
    "max_features_title = 25355\n",
    "max_features_query = 6397\n",
    "data = dataset\n",
    "\n",
    "data.head(2)"
   ]
  },
  {
   "cell_type": "code",
   "execution_count": 17,
   "metadata": {},
   "outputs": [],
   "source": [
    "max_features_title = 25355\n",
    "max_features_query = 6397\n",
    "data = dataset\n",
    "\n",
    "max_fatures = max_features_title\n",
    "tokenizer = Tokenizer(num_words=max_fatures, split=' ')\n",
    "tokenizer.fit_on_texts(data['title'].values)\n",
    "X = tokenizer.texts_to_sequences(data['title'].values)\n",
    "X = pad_sequences(X)\n",
    "Y = pd.get_dummies(data['category']).values\n",
    "\n",
    "\n",
    "X_title, Y_title = X , Y\n",
    "\n",
    "\n",
    "max_fatures = max_features_query\n",
    "tokenizer = Tokenizer(num_words=max_fatures, split=' ')\n",
    "tokenizer.fit_on_texts(data['query'].values)\n",
    "X = tokenizer.texts_to_sequences(data['query'].values)\n",
    "X = pad_sequences(X)\n",
    "Y = pd.get_dummies(data['category']).values\n",
    "\n",
    "\n",
    "X_query, Y_query = X , Y"
   ]
  },
  {
   "cell_type": "markdown",
   "metadata": {},
   "source": [
    "##### Criação da base do corpus\n",
    "\n",
    "Vamos criar um conjunto de base de treinamento contendo o corpus disponivel no 'title', onde teremos a variável X_title contendo os corpus do title e a variável Y_title contendo a classificação dos produtos, campo 'category'. \n",
    "Este campo será usado pelo modelo para \"aprender\" através do corpus qual a categoria do produto.\n",
    "Da mesma forma teremos o corpus de 'query'."
   ]
  },
  {
   "cell_type": "code",
   "execution_count": 18,
   "metadata": {},
   "outputs": [
    {
     "name": "stdout",
     "output_type": "stream",
     "text": [
      "(38507, 14) (38507, 6)\n"
     ]
    }
   ],
   "source": [
    "###### Corpus de Title\n",
    "print(X_title.shape,Y_title.shape)"
   ]
  },
  {
   "cell_type": "code",
   "execution_count": 19,
   "metadata": {},
   "outputs": [
    {
     "name": "stdout",
     "output_type": "stream",
     "text": [
      "(38507, 15) (38507, 6)\n"
     ]
    }
   ],
   "source": [
    "###### Corpus de query\n",
    "print(X_query.shape,Y_query.shape)"
   ]
  },
  {
   "cell_type": "markdown",
   "metadata": {},
   "source": [
    "Tendo o conjunto de arrays de X_title de tamanho de [38507,14] and e Y_title [38507,6] e X_query de tamanho de [38507,15] and e Y_title [38507,6]."
   ]
  },
  {
   "cell_type": "markdown",
   "metadata": {},
   "source": [
    "#### Dataset de Treinamento e Validação"
   ]
  },
  {
   "cell_type": "markdown",
   "metadata": {},
   "source": [
    "Tendo os conjunto de dados pre processados de forma que um modelo de máquina possa interpretá-los. \n",
    "Vamos então separar os dados entre dados de treinamento e de validação para avaliar a precisão do nossos modelos.\n",
    "Vamos então dividir os dados entre 80% para treinamento e 20% para validação do modelo.\n"
   ]
  },
  {
   "cell_type": "code",
   "execution_count": 20,
   "metadata": {},
   "outputs": [],
   "source": [
    "from keras.models import Sequential\n",
    "from keras.layers import Dense, Embedding, LSTM, SpatialDropout1D\n",
    "from sklearn.model_selection import train_test_split\n",
    "from keras.utils.np_utils import to_categorical"
   ]
  },
  {
   "cell_type": "markdown",
   "metadata": {},
   "source": [
    "#### Dataset de classificação pelo titulo"
   ]
  },
  {
   "cell_type": "code",
   "execution_count": 21,
   "metadata": {},
   "outputs": [],
   "source": [
    "(X_train_title, X_test_title,\n",
    " Y_train_title, Y_test_title) = train_test_split(X_title, Y_title, test_size = 0.20, random_state = 42)"
   ]
  },
  {
   "cell_type": "code",
   "execution_count": 22,
   "metadata": {},
   "outputs": [
    {
     "name": "stdout",
     "output_type": "stream",
     "text": [
      "(30805, 6)\n",
      "(7702, 6)\n"
     ]
    }
   ],
   "source": [
    "print(Y_train_title.shape)\n",
    "print(Y_test_title.shape)"
   ]
  },
  {
   "cell_type": "markdown",
   "metadata": {},
   "source": [
    "#### Dataset de classificação pela query"
   ]
  },
  {
   "cell_type": "code",
   "execution_count": 23,
   "metadata": {},
   "outputs": [],
   "source": [
    "(X_train_query, X_test_query,\n",
    " Y_train_query, Y_test_query) = train_test_split(X_query, Y_query, test_size = 0.20, random_state = 42)"
   ]
  },
  {
   "cell_type": "code",
   "execution_count": 24,
   "metadata": {},
   "outputs": [
    {
     "name": "stdout",
     "output_type": "stream",
     "text": [
      "(30805, 6)\n",
      "(7702, 6)\n"
     ]
    }
   ],
   "source": [
    "print(Y_train_query.shape)\n",
    "print(Y_test_query.shape)"
   ]
  },
  {
   "cell_type": "markdown",
   "metadata": {},
   "source": [
    "Tendo o dataset de treinamento de 30.805 divididos por 6 para treinamento e 7.702 divididos por 6 para validação do modelo tanto para o corpus de 'title' como o de 'query'.\n",
    "\n",
    "Temos então 30.805 registros para treinamento do modelo e 7.702 registro para a validação do modelo para cada corpus."
   ]
  },
  {
   "cell_type": "markdown",
   "metadata": {},
   "source": [
    "# Parte 2 - Sistema de Classificação de Produtos"
   ]
  },
  {
   "cell_type": "markdown",
   "metadata": {},
   "source": [
    "### Técnica escolhida para desenvolvimento do modelo"
   ]
  },
  {
   "cell_type": "markdown",
   "metadata": {},
   "source": [
    "Vamos criar um modelo usando tecnicas mais avançadas de treinamento de máquina, usando aprendizado produndo. \n",
    "Deep Learning com redes neurais recorrentes para a classificação dos produtos usando dados não estruturados.\n"
   ]
  },
  {
   "cell_type": "markdown",
   "metadata": {},
   "source": [
    "O objetivo é ter um modelo que classifique os dados como os seres humanos, nos não lemos cada palavra com um significado único, mas  vamos lendo as palavras e formando a interpretação baseada na palavra anterior, ou seja nossos pensamentos tem persistência.\n",
    "\n",
    "Com modelos tradicionais isso seria impossivel, até mesmo se tratando de redes neurais tradicionais, a necessidade de ter persistência dificulta a aplicação por metodos tradicionais.\n",
    "Para resolver este problema de classificação de produto baseado em textos não estruturados precisamos usar modelos mais avançados.\n",
    "\n",
    "O modelo precisa levar em consideração não somente as palavras mais as palavras anteriores, tendo uma peristência, assim como um ser humano faria.\n",
    "\n",
    "As Redes neurais recorrentes podem resolver esse problema, pois estas redes possuem um aprendizado com loops, e isso permite que o modelo aprenda com informações persistentes, assim como nós seres humanos classificariamos os produtos apenas lendo os textos.\n",
    "\n",
    "Uma rede neural recorrente são redes de múltiplas cópias da mesma rede, onde cada rede passa uma mensagem a uma rede sucessora, desta forma podemos criar a persistencia que precisamos para resolver o problema de classificação de produto baseado nos textos livres dos campos como title ou query."
   ]
  },
  {
   "cell_type": "markdown",
   "metadata": {},
   "source": [
    "###  Técnica escolhida para desenvolvimento do modelo"
   ]
  },
  {
   "cell_type": "markdown",
   "metadata": {},
   "source": [
    "### Redes Neurais Recorrentes"
   ]
  },
  {
   "cell_type": "markdown",
   "metadata": {},
   "source": [
    "Definindo a técnica que melhor se adequa ao problema vamos utilizar a biblioteca keras para produzir o modelo de rede neural recorrentes.\n",
    "Vamos definir as camadas do tipo Embedding, LSTM e Dense, sendo:\n",
    "\n",
    "* **Embedding** que são as camadas da rede que aprende as representações mais relevantes para as camandas posteriores.\n",
    "* **LSTM** que são as camadas da rede que permite que as sequências sejam tratadas como um conjunto de dados onde o contexto relevante para que o determinado atributo. \n",
    "* **Dense** que são as camadas utilizadas para fazer o processo de transformação da representação produzida pelo LSTM até se atingir a camanda final de neurônios que servirá de camanda de saída.\n"
   ]
  },
  {
   "cell_type": "markdown",
   "metadata": {},
   "source": [
    "O corpus máximo determinado conforme as palavras únicas encontradas em cada corpus."
   ]
  },
  {
   "cell_type": "code",
   "execution_count": 25,
   "metadata": {},
   "outputs": [],
   "source": [
    "max_features_title = 25355\n",
    "max_features_query = 6397"
   ]
  },
  {
   "cell_type": "markdown",
   "metadata": {},
   "source": [
    "O modelo terá camadas de Embedding de 128 e LSTM de 196. \n",
    "Teremos um dropout de 0.5 para evitar que a rede decorre o cada, ao invés de aprender.\n",
    "Como temos 6 categorias teremos uma Dense de 6 neuromios para determinar as 6 possiveis saidas. "
   ]
  },
  {
   "cell_type": "code",
   "execution_count": 26,
   "metadata": {},
   "outputs": [],
   "source": [
    "embed_dim = 128\n",
    "lstm_out  = 196\n",
    "dropout   = 0.5"
   ]
  },
  {
   "cell_type": "code",
   "execution_count": 27,
   "metadata": {},
   "outputs": [
    {
     "name": "stdout",
     "output_type": "stream",
     "text": [
      "_________________________________________________________________\n",
      "Layer (type)                 Output Shape              Param #   \n",
      "=================================================================\n",
      "embedding_1 (Embedding)      (None, 14, 128)           3245440   \n",
      "_________________________________________________________________\n",
      "spatial_dropout1d_1 (Spatial (None, 14, 128)           0         \n",
      "_________________________________________________________________\n",
      "lstm_1 (LSTM)                (None, 196)               254800    \n",
      "_________________________________________________________________\n",
      "dense_1 (Dense)              (None, 6)                 1182      \n",
      "=================================================================\n",
      "Total params: 3,501,422\n",
      "Trainable params: 3,501,422\n",
      "Non-trainable params: 0\n",
      "_________________________________________________________________\n",
      "None\n",
      "_________________________________________________________________\n",
      "Layer (type)                 Output Shape              Param #   \n",
      "=================================================================\n",
      "embedding_2 (Embedding)      (None, 15, 128)           818816    \n",
      "_________________________________________________________________\n",
      "spatial_dropout1d_2 (Spatial (None, 15, 128)           0         \n",
      "_________________________________________________________________\n",
      "lstm_2 (LSTM)                (None, 196)               254800    \n",
      "_________________________________________________________________\n",
      "dense_2 (Dense)              (None, 6)                 1182      \n",
      "=================================================================\n",
      "Total params: 1,074,798\n",
      "Trainable params: 1,074,798\n",
      "Non-trainable params: 0\n",
      "_________________________________________________________________\n",
      "None\n"
     ]
    }
   ],
   "source": [
    "def CreateModel(max_fatures, X):\n",
    "    model = Sequential()\n",
    "    model.add(Embedding(max_fatures, embed_dim,input_length = X.shape[1]))\n",
    "    model.add(SpatialDropout1D(0.4))\n",
    "    model.add(LSTM(lstm_out, dropout=0.5, recurrent_dropout=0.5))\n",
    "    model.add(Dense(6,activation='softmax'))\n",
    "    model.compile(loss = 'categorical_crossentropy', optimizer='adam',metrics = ['accuracy'])\n",
    "    print(model.summary())\n",
    "    return model\n",
    "\n",
    "\n",
    "Model_title= CreateModel(max_features_title,X_train_title )\n",
    "Model_query= CreateModel(max_features_query,X_train_query )"
   ]
  },
  {
   "cell_type": "markdown",
   "metadata": {},
   "source": [
    "Os dois modelos estão criados tendo uma rede neural recorrente de 1,074,798 para a classificação dos produtos através do campo query e um modelo de 3,501,422 para a classificação dos produtos através do titulo."
   ]
  },
  {
   "cell_type": "markdown",
   "metadata": {},
   "source": [
    "### Treinamento dos modelos "
   ]
  },
  {
   "cell_type": "markdown",
   "metadata": {},
   "source": [
    "Para o treinamento do modelo vamos utilizar 20 epocas como ciclos de treinamento completo no conjunto de treinamento.\n",
    "Vamos testar e comparar os modelos usando 20 ciclos, pois as quantidade de epocas suficientes para convergência variam de dados para dados. \n",
    "O objetivo de usar a mesma quantidade de epocas é ter a mesma metrica para avaliar a convergencia dos modelos.\n"
   ]
  },
  {
   "cell_type": "code",
   "execution_count": 28,
   "metadata": {},
   "outputs": [],
   "source": [
    "batch_size = 32\n",
    "epoch=20"
   ]
  },
  {
   "cell_type": "markdown",
   "metadata": {},
   "source": [
    "Note que o modelo treinado no corpus de 'title' convergiu com maior acurácia com 20 ciclos do que o modelo treinando no corpus de 'query'."
   ]
  },
  {
   "cell_type": "markdown",
   "metadata": {},
   "source": [
    "#### Treinamento do modelo para a classificação de produto baseado no titulo"
   ]
  },
  {
   "cell_type": "code",
   "execution_count": 29,
   "metadata": {},
   "outputs": [
    {
     "name": "stdout",
     "output_type": "stream",
     "text": [
      "Epoch 1/20\n",
      " - 183s - loss: 0.7223 - acc: 0.7557\n",
      "Epoch 2/20\n",
      " - 192s - loss: 0.4086 - acc: 0.8677\n",
      "Epoch 3/20\n",
      " - 183s - loss: 0.3365 - acc: 0.8881\n",
      "Epoch 4/20\n",
      " - 174s - loss: 0.2961 - acc: 0.8996\n",
      "Epoch 5/20\n",
      " - 181s - loss: 0.2682 - acc: 0.9080\n",
      "Epoch 6/20\n",
      " - 183s - loss: 0.2487 - acc: 0.9127\n",
      "Epoch 7/20\n",
      " - 161s - loss: 0.2344 - acc: 0.9174\n",
      "Epoch 8/20\n",
      " - 150s - loss: 0.2238 - acc: 0.9206\n",
      "Epoch 9/20\n",
      " - 150s - loss: 0.2138 - acc: 0.9237\n",
      "Epoch 10/20\n",
      " - 149s - loss: 0.2041 - acc: 0.9281\n",
      "Epoch 11/20\n",
      " - 150s - loss: 0.1965 - acc: 0.9294\n",
      "Epoch 12/20\n",
      " - 152s - loss: 0.1891 - acc: 0.9321\n",
      "Epoch 13/20\n",
      " - 152s - loss: 0.1857 - acc: 0.9311\n",
      "Epoch 14/20\n",
      " - 148s - loss: 0.1756 - acc: 0.9366\n",
      "Epoch 15/20\n",
      " - 150s - loss: 0.1710 - acc: 0.9377\n",
      "Epoch 16/20\n",
      " - 145s - loss: 0.1664 - acc: 0.9395\n",
      "Epoch 17/20\n",
      " - 149s - loss: 0.1622 - acc: 0.9410\n",
      "Epoch 18/20\n",
      " - 150s - loss: 0.1592 - acc: 0.9408\n",
      "Epoch 19/20\n",
      " - 151s - loss: 0.1533 - acc: 0.9431\n",
      "Epoch 20/20\n",
      " - 147s - loss: 0.1505 - acc: 0.9435\n"
     ]
    },
    {
     "data": {
      "text/plain": [
       "<keras.callbacks.History at 0x7f29e6e7bb70>"
      ]
     },
     "execution_count": 29,
     "metadata": {},
     "output_type": "execute_result"
    }
   ],
   "source": [
    "Model_title.fit(X_train_title, Y_train_title, epochs = epoch, batch_size=batch_size, verbose = 2)"
   ]
  },
  {
   "cell_type": "markdown",
   "metadata": {},
   "source": [
    "Conforme demonstrado abaixo:\n",
    "##### Modelo com aprendizagem no corpus do 'title'\n",
    "Com épocas de 20/20, o modelo de aprendizagem no corpus do titulo obteve: uma perda de 0.1504 e acurácia de 0.9432."
   ]
  },
  {
   "cell_type": "markdown",
   "metadata": {},
   "source": [
    "#### Treinamento do modelo para a classificação de produto baseado no query"
   ]
  },
  {
   "cell_type": "code",
   "execution_count": 30,
   "metadata": {},
   "outputs": [
    {
     "name": "stdout",
     "output_type": "stream",
     "text": [
      "Epoch 1/20\n",
      " - 110s - loss: 0.8130 - acc: 0.7262\n",
      "Epoch 2/20\n",
      " - 107s - loss: 0.5300 - acc: 0.8300\n",
      "Epoch 3/20\n",
      " - 106s - loss: 0.4747 - acc: 0.8446\n",
      "Epoch 4/20\n",
      " - 106s - loss: 0.4475 - acc: 0.8516\n",
      "Epoch 5/20\n",
      " - 107s - loss: 0.4334 - acc: 0.8527\n",
      "Epoch 6/20\n",
      " - 106s - loss: 0.4229 - acc: 0.8545\n",
      "Epoch 7/20\n",
      " - 110s - loss: 0.4129 - acc: 0.8562\n",
      "Epoch 8/20\n",
      " - 105s - loss: 0.4045 - acc: 0.8597\n",
      "Epoch 9/20\n",
      " - 104s - loss: 0.4020 - acc: 0.8575\n",
      "Epoch 10/20\n",
      " - 108s - loss: 0.3945 - acc: 0.8582\n",
      "Epoch 11/20\n",
      " - 105s - loss: 0.3910 - acc: 0.8605\n",
      "Epoch 12/20\n",
      " - 109s - loss: 0.3864 - acc: 0.8615\n",
      "Epoch 13/20\n",
      " - 102s - loss: 0.3838 - acc: 0.8629\n",
      "Epoch 14/20\n",
      " - 108s - loss: 0.3799 - acc: 0.8635\n",
      "Epoch 15/20\n",
      " - 104s - loss: 0.3761 - acc: 0.8638\n",
      "Epoch 16/20\n",
      " - 104s - loss: 0.3739 - acc: 0.8639\n",
      "Epoch 17/20\n",
      " - 109s - loss: 0.3709 - acc: 0.8643\n",
      "Epoch 18/20\n",
      " - 112s - loss: 0.3671 - acc: 0.8646\n",
      "Epoch 19/20\n",
      " - 126s - loss: 0.3650 - acc: 0.8669\n",
      "Epoch 20/20\n",
      " - 130s - loss: 0.3623 - acc: 0.8667\n"
     ]
    },
    {
     "data": {
      "text/plain": [
       "<keras.callbacks.History at 0x7f29dd7516d8>"
      ]
     },
     "execution_count": 30,
     "metadata": {},
     "output_type": "execute_result"
    }
   ],
   "source": [
    "Model_query.fit(X_train_query, Y_train_query, epochs = epoch, batch_size=batch_size, verbose = 2)"
   ]
  },
  {
   "cell_type": "markdown",
   "metadata": {},
   "source": [
    " \n",
    "##### Modelo com aprendizagem no corpus do 'query'\n",
    "Com épocas de 20/20, o modelo de aprendizagem no corpus do titulo obteve: uma perda de 0.3621 e acurácia de 0.8677.\n",
    "\n",
    "Note que para o modelo de aprendizagem pelo corpus do campo query seriam necessárioss mais épocas para maior aprendizagem do modelo.\n"
   ]
  },
  {
   "cell_type": "markdown",
   "metadata": {},
   "source": [
    "# Parte 3 - Avaliação do Sistema de Classificação"
   ]
  },
  {
   "cell_type": "markdown",
   "metadata": {},
   "source": [
    "Para a avaliação dos modelos vamos utilizar as metricas:\n",
    "    \n",
    "* A **acurácia** é uma boa indicação geral de como o modelo performou.\n",
    "* A **precisão** pode ser usada em uma situação em que os Falsos Positivos são considerados mais prejudiciais que os Falsos Negativos.\n",
    "* O recall pode ser usada em uma situação em que os Falsos Negativos são considerados mais prejudiciais que os Falsos Positivos. \n",
    "* O **f1-Score** é simplesmente uma maneira de observar somente 1 métrica ao invés de duas (precisão e recall) em alguma situação.\n"
   ]
  },
  {
   "cell_type": "code",
   "execution_count": 31,
   "metadata": {},
   "outputs": [],
   "source": [
    "def ClassificyPredict(classifier, X_test,Y_test ):\n",
    "    # Predizendo os resultados do conjunto de teste\n",
    "    y_pred = classifier.predict(X_test)\n",
    "    y_pred = (y_pred > 0.5)\n",
    "    \n",
    "    from sklearn.metrics import accuracy_score\n",
    "    print('Acurácia: %.2f%%' % (accuracy_score(Y_test, y_pred)*100))\n",
    "    \n",
    "    from sklearn.metrics import classification_report\n",
    "    print(classification_report(Y_test, y_pred))"
   ]
  },
  {
   "cell_type": "markdown",
   "metadata": {},
   "source": [
    "Note que o modelo com a análise do titulo teve uma maior acurácia do que o modelo com análise do query.\n",
    "Intuitivamenente era esperado devido ao modelo usar um corpus maior para a classificação dos produtos de 25355 para titulos contra 6397 das querys.\n"
   ]
  },
  {
   "cell_type": "code",
   "execution_count": 32,
   "metadata": {},
   "outputs": [
    {
     "name": "stdout",
     "output_type": "stream",
     "text": [
      "Acurácia: 88.43%\n",
      "              precision    recall  f1-score   support\n",
      "\n",
      "           0       0.91      0.85      0.88      1405\n",
      "           1       0.92      0.93      0.92       171\n",
      "           2       0.90      0.90      0.90      1776\n",
      "           3       0.90      0.93      0.91      3573\n",
      "           4       0.77      0.73      0.75       567\n",
      "           5       0.84      0.70      0.76       210\n",
      "\n",
      "   micro avg       0.89      0.88      0.89      7702\n",
      "   macro avg       0.87      0.84      0.85      7702\n",
      "weighted avg       0.89      0.88      0.89      7702\n",
      " samples avg       0.88      0.88      0.88      7702\n",
      "\n"
     ]
    },
    {
     "name": "stderr",
     "output_type": "stream",
     "text": [
      "/home/aline/miniconda3/lib/python3.6/site-packages/sklearn/metrics/classification.py:1437: UndefinedMetricWarning: Precision and F-score are ill-defined and being set to 0.0 in samples with no predicted labels.\n",
      "  'precision', 'predicted', average, warn_for)\n"
     ]
    }
   ],
   "source": [
    "ClassificyPredict(Model_title, X_test_title, Y_test_title)"
   ]
  },
  {
   "cell_type": "markdown",
   "metadata": {},
   "source": [
    "Conseguimos obter uma classificação dos produtos de 88.43% de acurácia usando uma rede neural recorrente com analise dos campos textos não estruturados.\n",
    "\n",
    "##### Modelo de Redes Neurais Recorrentes usando o corpus do campo \"title\"\n",
    "O modelo obteve a acurácia de 88.43% em 7.702 registros de validação.\n",
    "\n",
    "**Acurácia de 88.43%**"
   ]
  },
  {
   "cell_type": "code",
   "execution_count": 33,
   "metadata": {},
   "outputs": [
    {
     "name": "stdout",
     "output_type": "stream",
     "text": [
      "Acurácia: 82.98%\n",
      "              precision    recall  f1-score   support\n",
      "\n",
      "           0       0.90      0.76      0.83      1405\n",
      "           1       0.85      0.86      0.85       171\n",
      "           2       0.84      0.85      0.85      1776\n",
      "           3       0.87      0.89      0.88      3573\n",
      "           4       0.73      0.62      0.67       567\n",
      "           5       0.72      0.59      0.65       210\n",
      "\n",
      "   micro avg       0.85      0.83      0.84      7702\n",
      "   macro avg       0.82      0.76      0.79      7702\n",
      "weighted avg       0.85      0.83      0.84      7702\n",
      " samples avg       0.83      0.83      0.83      7702\n",
      "\n"
     ]
    },
    {
     "name": "stderr",
     "output_type": "stream",
     "text": [
      "/home/aline/miniconda3/lib/python3.6/site-packages/sklearn/metrics/classification.py:1437: UndefinedMetricWarning: Precision and F-score are ill-defined and being set to 0.0 in samples with no predicted labels.\n",
      "  'precision', 'predicted', average, warn_for)\n"
     ]
    }
   ],
   "source": [
    "ClassificyPredict(Model_query , X_test_query, Y_test_query)"
   ]
  },
  {
   "cell_type": "markdown",
   "metadata": {},
   "source": [
    "\n",
    "##### Modelo de Redes Neurais Recorrentes usando o corpus do campo \"query\"\n",
    "O modelo obteve a acurácia de 82.98% em 7.702 registros de validação.\n",
    "\n",
    "**Acurácia de 82.98%**\n"
   ]
  },
  {
   "cell_type": "markdown",
   "metadata": {},
   "source": [
    "### 14 - Conclusão \n",
    "\n",
    "O modelo de categorização de produtos usando o corpus do title obteve melhor métrica com menor ciclo de treinamento, tendo -+88,% de acurácia e o modelo usando o corpus do campo 'query' também obteve bons resultados sendo necessário usar mais epocas para obter um maior ganho de precisão. \n",
    "Para testes futuros no modelo podemos reduzir o tamanho do corpus levando em consideração as palavras de maior frequencia, assim como também avaliar os modelos com maior clicos de treinamentos para garantir maior precisão dos modelos.\n",
    "O objetivo destas demonstração foi avaliar a possibilidade de criar um modelo de classificação de produtos baseados em suas caracteristicas disponiveis do dataset disponibilizado pelo Elo7.\n"
   ]
  },
  {
   "cell_type": "code",
   "execution_count": null,
   "metadata": {},
   "outputs": [],
   "source": []
  }
 ],
 "metadata": {
  "kernelspec": {
   "display_name": "Python 3",
   "language": "python",
   "name": "python3"
  },
  "language_info": {
   "codemirror_mode": {
    "name": "ipython",
    "version": 3
   },
   "file_extension": ".py",
   "mimetype": "text/x-python",
   "name": "python",
   "nbconvert_exporter": "python",
   "pygments_lexer": "ipython3",
   "version": "3.6.10"
  }
 },
 "nbformat": 4,
 "nbformat_minor": 2
}
